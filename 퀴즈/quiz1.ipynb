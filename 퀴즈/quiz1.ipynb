{
 "cells": [
  {
   "cell_type": "code",
   "execution_count": 1,
   "metadata": {},
   "outputs": [
    {
     "name": "stdout",
     "output_type": "stream",
     "text": [
      "사당역 입니다\n",
      "신도림역 입니다\n",
      "인천공항역 입니다\n"
     ]
    }
   ],
   "source": [
    "a=[\"사당\", \"신도림\", \"인천공항\"]\n",
    "\n",
    "\n",
    "for i in range(3):\n",
    "    print(a[i]+\"역 입니다\")"
   ]
  }
 ],
 "metadata": {
  "kernelspec": {
   "display_name": "base",
   "language": "python",
   "name": "python3"
  },
  "language_info": {
   "codemirror_mode": {
    "name": "ipython",
    "version": 3
   },
   "file_extension": ".py",
   "mimetype": "text/x-python",
   "name": "python",
   "nbconvert_exporter": "python",
   "pygments_lexer": "ipython3",
   "version": "3.9.13"
  },
  "orig_nbformat": 4
 },
 "nbformat": 4,
 "nbformat_minor": 2
}
