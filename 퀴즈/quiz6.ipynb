{
 "cells": [
  {
   "attachments": {},
   "cell_type": "markdown",
   "metadata": {},
   "source": [
    "표준체중\n",
    "\n",
    "(성별 공식)\n",
    "남자: 키(m)*키(m)*22\n",
    "여자: 키(m)*키(m)*21\n",
    "\n",
    "조건1. 별도의 함수 내에서 계산\n",
    "       함수 이름: std_weight\n",
    "       전달값 : 키(weight), 성별(gender)\n",
    "조건2. 소수점 둘째자리까지 표시\n"
   ]
  },
  {
   "cell_type": "code",
   "execution_count": 3,
   "metadata": {},
   "outputs": [
    {
     "name": "stdout",
     "output_type": "stream",
     "text": [
      "키175cm의 남자의 표준체중은 67.38kg입니다.\n"
     ]
    }
   ],
   "source": [
    "def std_weight(a,b):\n",
    "    if(b==\"남자\"):\n",
    "        return round((a/100)*(a/100)*22,2)\n",
    "    elif(b==\"여자\"):\n",
    "        return round((a/100)*(a/100)*21,2)\n",
    "\n",
    "a=175\n",
    "b=\"남자\"\n",
    "print(f\"키{a}cm의 남자의 표준체중은 {std_weight(a,b)}kg입니다.\")  "
   ]
  }
 ],
 "metadata": {
  "language_info": {
   "name": "python"
  },
  "orig_nbformat": 4
 },
 "nbformat": 4,
 "nbformat_minor": 2
}
