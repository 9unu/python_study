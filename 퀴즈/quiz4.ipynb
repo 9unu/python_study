{
 "cells": [
  {
   "attachments": {},
   "cell_type": "markdown",
   "metadata": {},
   "source": [
    "파이썬 코딩 대회\n",
    "\n",
    "1명은 치킨, 3명은 커피 쿠폰\n",
    "추첨 프로그램 작성\n",
    "\n",
    "조건1. 댓글은 20명 id는 1~20\n",
    "조건2. 무작위 추첨, 중복 불가\n",
    "조건3. random모듈의 shuffle, sample활용"
   ]
  },
  {
   "cell_type": "code",
   "execution_count": 12,
   "metadata": {},
   "outputs": [
    {
     "name": "stdout",
     "output_type": "stream",
     "text": [
      "[4, 16, 15, 14]\n",
      "치킨 당첨자 4\n",
      "커피 당첨자:  [16, 15, 14]\n"
     ]
    }
   ],
   "source": [
    "from random import sample\n",
    "a=[]\n",
    "for i in range(20):\n",
    "    a.append(i)\n",
    "b=sample(a,4)\n",
    "set(b)\n",
    "print(b)\n",
    "print(\"치킨 당첨자\", b[0])\n",
    "print(\"커피 당첨자: \", b[1:])"
   ]
  },
  {
   "attachments": {},
   "cell_type": "markdown",
   "metadata": {},
   "source": [
    "한줄 for문"
   ]
  },
  {
   "cell_type": "code",
   "execution_count": null,
   "metadata": {},
   "outputs": [],
   "source": [
    "student=[\"박\", \"홍\", \"최\"]\n",
    "#리스트 내용을 길이로 변환\n",
    "student = [len(i) for i in student]\n",
    "\n",
    "# 적용내용 for i in 적용 범위\n"
   ]
  }
 ],
 "metadata": {
  "kernelspec": {
   "display_name": "base",
   "language": "python",
   "name": "python3"
  },
  "language_info": {
   "codemirror_mode": {
    "name": "ipython",
    "version": 3
   },
   "file_extension": ".py",
   "mimetype": "text/x-python",
   "name": "python",
   "nbconvert_exporter": "python",
   "pygments_lexer": "ipython3",
   "version": "3.9.13"
  },
  "orig_nbformat": 4
 },
 "nbformat": 4,
 "nbformat_minor": 2
}
