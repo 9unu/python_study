{
 "cells": [
  {
   "cell_type": "code",
   "execution_count": 39,
   "metadata": {},
   "outputs": [],
   "source": [
    "score_file= open(\"score.txt\", \"w\", encoding=\"utf8\")\n",
    "# 파일이름, 목적(w : 쓰기), encoding :utf8"
   ]
  },
  {
   "cell_type": "code",
   "execution_count": 40,
   "metadata": {},
   "outputs": [],
   "source": [
    "print(\"수학:0\", file=score_file)\n",
    "print(\"영어:80\", file=score_file)\n",
    "\n",
    "score_file.close() #파일 작업 후 닫아주기\n"
   ]
  },
  {
   "cell_type": "code",
   "execution_count": 41,
   "metadata": {},
   "outputs": [],
   "source": [
    "score_file= open(\"score.txt\", \"a\", encoding=\"utf8\")\n",
    "# a -> append(이미 있는 파일에 내용 추가)"
   ]
  },
  {
   "cell_type": "code",
   "execution_count": 42,
   "metadata": {},
   "outputs": [
    {
     "data": {
      "text/plain": [
       "6"
      ]
     },
     "execution_count": 42,
     "metadata": {},
     "output_type": "execute_result"
    }
   ],
   "source": [
    "score_file.write(\"과학:80\")\n",
    "score_file.write(\"\\n코딩:80\")   # write함수쓸때는 줄바꿈문자 입력해줘야함"
   ]
  },
  {
   "cell_type": "code",
   "execution_count": 43,
   "metadata": {},
   "outputs": [
    {
     "name": "stdout",
     "output_type": "stream",
     "text": [
      "수학:0\n",
      "영어:80\n",
      "과학:80\n",
      "코딩:80\n"
     ]
    }
   ],
   "source": [
    "score_file=open(\"score.txt\", \"r\", encoding=\"utf8\")\n",
    "# r -> 읽기 목적\n",
    "\n",
    "print(score_file.read())    #파일 내용 전부 읽어오기\n",
    "\n",
    "score_file.close()\n"
   ]
  },
  {
   "cell_type": "code",
   "execution_count": 44,
   "metadata": {},
   "outputs": [
    {
     "name": "stdout",
     "output_type": "stream",
     "text": [
      "수학:0\n",
      "영어:80\n",
      "과학:80\n",
      "코딩:80\n"
     ]
    }
   ],
   "source": [
    "score_file=open(\"score.txt\", \"r\", encoding=\"utf8\")\n",
    "print(score_file.readline(), end=\"\")    #readline: 한줄읽고 커서 다음줄로 이동\n",
    "print(score_file.readline(), end=\"\")\n",
    "print(score_file.readline(), end=\"\")\n",
    "print(score_file.readline())\n",
    "score_file.close()"
   ]
  },
  {
   "cell_type": "code",
   "execution_count": 45,
   "metadata": {},
   "outputs": [
    {
     "name": "stdout",
     "output_type": "stream",
     "text": [
      "수학:0\n",
      "영어:80\n",
      "과학:80\n",
      "코딩:80\n",
      "\n"
     ]
    }
   ],
   "source": [
    "#몇줄인지 모를때\n",
    "score_file=open(\"score.txt\", \"r\", encoding=\"utf8\")\n",
    "while True:\n",
    "    line=score_file.readline()\n",
    "    if not line:\n",
    "        break\n",
    "    else:\n",
    "        print(line, end=\"\")\n",
    "score_file.close()\n",
    "print(\"\\n\")"
   ]
  },
  {
   "cell_type": "code",
   "execution_count": 46,
   "metadata": {},
   "outputs": [
    {
     "name": "stdout",
     "output_type": "stream",
     "text": [
      "수학:0\n",
      "영어:80\n",
      "과학:80\n",
      "코딩:80"
     ]
    }
   ],
   "source": [
    "score_file=open(\"score.txt\", \"r\", encoding=\"utf8\")\n",
    "lines=score_file.readlines() # 각 줄의 내용을 list로 가져옴\n",
    "\n",
    "for i in lines:\n",
    "    print(i, end=\"\")\n",
    "\n",
    "score_file.close()"
   ]
  }
 ],
 "metadata": {
  "kernelspec": {
   "display_name": "base",
   "language": "python",
   "name": "python3"
  },
  "language_info": {
   "codemirror_mode": {
    "name": "ipython",
    "version": 3
   },
   "file_extension": ".py",
   "mimetype": "text/x-python",
   "name": "python",
   "nbconvert_exporter": "python",
   "pygments_lexer": "ipython3",
   "version": "3.9.13"
  },
  "orig_nbformat": 4
 },
 "nbformat": 4,
 "nbformat_minor": 2
}
