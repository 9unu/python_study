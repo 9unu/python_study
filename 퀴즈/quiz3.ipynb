{
 "cells": [
  {
   "cell_type": "code",
   "execution_count": 9,
   "metadata": {},
   "outputs": [
    {
     "name": "stdout",
     "output_type": "stream",
     "text": [
      "naver\n",
      "nav51!\n"
     ]
    }
   ],
   "source": [
    "a=\"http://naver.com\"\n",
    "b=a[7:-4]\n",
    "print(b)\n",
    "k= len(b)\n",
    "i =b.count('e')\n",
    "str=f\"{b[:3]}{k}{i}!\"\n",
    "print(str)\n",
    "\n"
   ]
  }
 ],
 "metadata": {
  "kernelspec": {
   "display_name": "base",
   "language": "python",
   "name": "python3"
  },
  "language_info": {
   "codemirror_mode": {
    "name": "ipython",
    "version": 3
   },
   "file_extension": ".py",
   "mimetype": "text/x-python",
   "name": "python",
   "nbconvert_exporter": "python",
   "pygments_lexer": "ipython3",
   "version": "3.9.13"
  },
  "orig_nbformat": 4
 },
 "nbformat": 4,
 "nbformat_minor": 2
}
