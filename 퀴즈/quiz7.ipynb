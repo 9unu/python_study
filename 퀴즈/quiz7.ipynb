{
 "cells": [
  {
   "attachments": {},
   "cell_type": "markdown",
   "metadata": {},
   "source": [
    "매주 1회 보고서 작성\n",
    "\n",
    "형태:\n",
    "\n",
    "- X 주차 주간보고 -\n",
    "부서 :\n",
    "이름 :\n",
    "업무 요약 :\n",
    "\n",
    "1주차부터 50주차까지의 보고서파일을 만드는 프로그램"
   ]
  },
  {
   "cell_type": "code",
   "execution_count": 2,
   "metadata": {},
   "outputs": [],
   "source": [
    "for i in range(1,5):\n",
    "    with open(f\"{i}주차.txt\", \"w\", encoding=\"utf8\") as report_file:\n",
    "        print(f\"{i}주차 주간보고\", file=report_file)\n",
    "        print(\"부서: \", file=report_file)\n",
    "        print(\"이름: \", file=report_file)\n",
    "        print(\"업무 요약: \", file=report_file)\n",
    "        report_file.close()"
   ]
  }
 ],
 "metadata": {
  "kernelspec": {
   "display_name": "base",
   "language": "python",
   "name": "python3"
  },
  "language_info": {
   "codemirror_mode": {
    "name": "ipython",
    "version": 3
   },
   "file_extension": ".py",
   "mimetype": "text/x-python",
   "name": "python",
   "nbconvert_exporter": "python",
   "pygments_lexer": "ipython3",
   "version": "3.9.13"
  },
  "orig_nbformat": 4
 },
 "nbformat": 4,
 "nbformat_minor": 2
}
