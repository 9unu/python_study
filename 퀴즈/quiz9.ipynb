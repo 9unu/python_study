{
 "cells": [
  {
   "attachments": {},
   "cell_type": "markdown",
   "metadata": {},
   "source": [
    "자동 주문 시스템\n",
    "\n",
    "조건1. 1보다 작거나 숫자가 아닌 입력값 -> valueerror로 처리\n",
    "\n",
    "출력 메세지: \"잘못된 값을 입력하였습니다.\"\n",
    "\n",
    "조건2. 대기 손님이 주문할 수 있는 총 치킨량은 10마리로 한정\n",
    "\n",
    "치킨 소진 시 사용자 정의 에러 [SoldoutError]를 발생시키고 프로그램 종료\n",
    "\n",
    "출력 메세지: \"재고가 소진되어 더 이상 주문을 받지 않습니다.\""
   ]
  },
  {
   "cell_type": "code",
   "execution_count": 1,
   "metadata": {},
   "outputs": [
    {
     "name": "stdout",
     "output_type": "stream",
     "text": [
      "주문량을 입력해주세요\n",
      "정수를 입력해주세요.\n",
      "주문량을 입력해주세요\n",
      "정수를 입력해주세요.\n",
      "주문량을 입력해주세요\n",
      "정수를 입력해주세요.\n",
      "주문량을 입력해주세요\n",
      "정수를 입력해주세요.\n",
      "주문량을 입력해주세요\n",
      "주문량: 10\n",
      "주문량을 입력해주세요\n",
      "주문량: 10\n",
      "주문량을 입력해주세요\n",
      "주문량: 10\n",
      "재고가 소진되어 더 이상 주문을 받지 않습니다.\n"
     ]
    }
   ],
   "source": [
    "class SoldoutError(Exception):\n",
    "    def __init__(self, msg):\n",
    "        self.msg=msg\n",
    "    def __str__(self):\n",
    "        return self.msg\n",
    "    \n",
    "\n",
    "\n",
    "\n",
    "def try_order(inven):\n",
    "    print(\"주문량을 입력해주세요\")\n",
    "    try:\n",
    "        num1=int(input(\"주문량: \"))\n",
    "        if(num1<1 or num1>10):\n",
    "            raise ValueError\n",
    "        \n",
    "        else:\n",
    "            print(f\"주문량: {num1}\")\n",
    "            if(num1>inven):\n",
    "                raise ValueError\n",
    "                       \n",
    "            inventory=inven-num1 \n",
    "            if(inventory<=0):\n",
    "                raise SoldoutError(\"재고가 소진되어 더 이상 주문을 받지 않습니다.\")\n",
    "            \n",
    "            else:\n",
    "                try_order(inventory)\n",
    "\n",
    "    except ValueError:\n",
    "            try:\n",
    "                if(int(num1)>10):\n",
    "                    print(\"최대 주문량은 10마리 입니다\")\n",
    "                    return try_order(inven)\n",
    "                elif(num1>inven):\n",
    "                    print(f\"현재 최대 주문량은 {inven}입니다.\")\n",
    "                    return try_order(inven)\n",
    "                \n",
    "            except UnboundLocalError:\n",
    "                print(\"정수를 입력해주세요.\")\n",
    "                try_order(inven)\n",
    "                \n",
    "    except SoldoutError as err:\n",
    "        print(err)\n",
    "        \n",
    "        \n",
    "try_order(30)"
   ]
  }
 ],
 "metadata": {
  "kernelspec": {
   "display_name": "base",
   "language": "python",
   "name": "python3"
  },
  "language_info": {
   "codemirror_mode": {
    "name": "ipython",
    "version": 3
   },
   "file_extension": ".py",
   "mimetype": "text/x-python",
   "name": "python",
   "nbconvert_exporter": "python",
   "pygments_lexer": "ipython3",
   "version": "3.9.13"
  },
  "orig_nbformat": 4
 },
 "nbformat": 4,
 "nbformat_minor": 2
}
