{
 "cells": [
  {
   "cell_type": "code",
   "execution_count": 2,
   "metadata": {},
   "outputs": [
    {
     "name": "stdout",
     "output_type": "stream",
     "text": [
      "time.struct_time(tm_year=2023, tm_mon=6, tm_mday=28, tm_hour=18, tm_min=25, tm_sec=53, tm_wday=2, tm_yday=179, tm_isdst=0)\n",
      "2023-06-28 18:25:53\n",
      "2023-06-28\n"
     ]
    }
   ],
   "source": [
    "import time\n",
    "\n",
    "print(time.localtime())     # 현재 시간\n",
    "\n",
    "print(time.strftime(\"%Y-%m-%d %H:%M:%S\")) #현재 시간 내가 원하는 형태로\n",
    "\n",
    "import datetime\n",
    "print(datetime.date.today())        # 오늘 날짜"
   ]
  }
 ],
 "metadata": {
  "kernelspec": {
   "display_name": "base",
   "language": "python",
   "name": "python3"
  },
  "language_info": {
   "codemirror_mode": {
    "name": "ipython",
    "version": 3
   },
   "file_extension": ".py",
   "mimetype": "text/x-python",
   "name": "python",
   "nbconvert_exporter": "python",
   "pygments_lexer": "ipython3",
   "version": "3.9.13"
  },
  "orig_nbformat": 4
 },
 "nbformat": 4,
 "nbformat_minor": 2
}
