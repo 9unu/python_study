{
 "cells": [
  {
   "attachments": {},
   "cell_type": "markdown",
   "metadata": {},
   "source": [
    "총 3대의 매물\n",
    "\n",
    "강남 아파트 10억  2010년\n",
    "\n",
    "마포 오피스텔 전세 5억  2007년\n",
    "\n",
    "송파 빌라 월세 500/50  2000년"
   ]
  },
  {
   "cell_type": "code",
   "execution_count": 2,
   "metadata": {},
   "outputs": [
    {
     "name": "stdout",
     "output_type": "stream",
     "text": [
      "장소 : 강남\n",
      "형태 : 아파트\n",
      "매매 or 전세 or 월세 : 매매\n",
      "가격 : 10억\n",
      "채결 연도 : 2010년\n"
     ]
    }
   ],
   "source": [
    "class House:\n",
    "    def __init__(self, location, house_type, deal_type, price, completion_year):\n",
    "        self.location=location\n",
    "        self.house_type= house_type\n",
    "        self.deal_type= deal_type\n",
    "        self.price=  price\n",
    "        self.completion_year = completion_year\n",
    "    \n",
    "    #매물 정보 표시\n",
    "    def show_detail(self):\n",
    "        print(f\"장소 : {self.location}\")\n",
    "        print(f\"형태 : {self.house_type}\")\n",
    "        print(f\"매매 or 전세 or 월세 : {self.deal_type}\")\n",
    "        print(f\"가격 : {self.price}\")\n",
    "        print(f\"채결 연도 : {self.completion_year}년\")\n",
    "    \n",
    "    \n",
    "a1=House(\"강남\", \"아파트\", \"매매\", \"10억\", 2010)   \n",
    "a1.show_detail()"
   ]
  }
 ],
 "metadata": {
  "kernelspec": {
   "display_name": "base",
   "language": "python",
   "name": "python3"
  },
  "language_info": {
   "codemirror_mode": {
    "name": "ipython",
    "version": 3
   },
   "file_extension": ".py",
   "mimetype": "text/x-python",
   "name": "python",
   "nbconvert_exporter": "python",
   "pygments_lexer": "ipython3",
   "version": "3.9.13"
  },
  "orig_nbformat": 4
 },
 "nbformat": 4,
 "nbformat_minor": 2
}
