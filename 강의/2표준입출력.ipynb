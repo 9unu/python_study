{
 "cells": [
  {
   "attachments": {},
   "cell_type": "markdown",
   "metadata": {},
   "source": [
    "sep: 구분 문자 추가\n",
    "end: 줄의 마지막을 어떻게 할지"
   ]
  },
  {
   "cell_type": "code",
   "execution_count": 92,
   "metadata": {},
   "outputs": [
    {
     "name": "stdout",
     "output_type": "stream",
     "text": [
      "a, b!"
     ]
    }
   ],
   "source": [
    "print(\"a\", \"b\", sep=\", \", end=\"!\")"
   ]
  },
  {
   "cell_type": "code",
   "execution_count": 93,
   "metadata": {},
   "outputs": [
    {
     "name": "stdout",
     "output_type": "stream",
     "text": [
      "a       :   50\n",
      "b       :   80\n",
      "c       :   90\n"
     ]
    }
   ],
   "source": [
    "score={\"a\":50, \"b\":80, \"c\":90}\n",
    "\n",
    "for a,b in score.items():\n",
    "    print(a.ljust(8), str(b).rjust(5), sep=\":\")     #ljust(i) : i의 칸을 확보한 상태에서 왼쪽 정렬 (문자열에만 적용가능)"
   ]
  },
  {
   "cell_type": "code",
   "execution_count": 94,
   "metadata": {},
   "outputs": [
    {
     "name": "stdout",
     "output_type": "stream",
     "text": [
      "대기번호001\n",
      "대기번호002\n",
      "대기번호003\n",
      "대기번호004\n",
      "대기번호005\n",
      "대기번호006\n",
      "대기번호007\n",
      "대기번호008\n",
      "대기번호009\n",
      "대기번호010\n",
      "대기번호011\n",
      "대기번호012\n",
      "대기번호013\n",
      "대기번호014\n",
      "대기번호015\n",
      "대기번호016\n",
      "대기번호017\n",
      "대기번호018\n",
      "대기번호019\n",
      "대기번호020\n"
     ]
    }
   ],
   "source": [
    "for num in range(1,21):\n",
    "    print(\"대기번호\"+str(num).zfill(3))     #zfill(i) i 자리수의 남는 자리를 0으로 채우기 (문자열에 적용가능)"
   ]
  },
  {
   "attachments": {},
   "cell_type": "markdown",
   "metadata": {},
   "source": [
    "빈 자리는 빈공간, 오른쪽 정렬(>), 총 10자리 공간 사용"
   ]
  },
  {
   "cell_type": "code",
   "execution_count": 95,
   "metadata": {},
   "outputs": [
    {
     "name": "stdout",
     "output_type": "stream",
     "text": [
      "       500\n"
     ]
    }
   ],
   "source": [
    "a=500\n",
    "print(f\"{a: >10}\")"
   ]
  },
  {
   "attachments": {},
   "cell_type": "markdown",
   "metadata": {},
   "source": [
    "양수일 땐 +로 표시, 음수일 땐 -로 표시"
   ]
  },
  {
   "cell_type": "code",
   "execution_count": 96,
   "metadata": {},
   "outputs": [
    {
     "name": "stdout",
     "output_type": "stream",
     "text": [
      "-50\n",
      "+10\n",
      "-30\n"
     ]
    }
   ],
   "source": [
    "a=[-50, 10, -30]\n",
    "for i in a:\n",
    "    print(f\"{i:+}\")"
   ]
  },
  {
   "attachments": {},
   "cell_type": "markdown",
   "metadata": {},
   "source": [
    "왼쪽 정렬(<), 빈칸 _ 채우기, 총 10자리"
   ]
  },
  {
   "cell_type": "code",
   "execution_count": 97,
   "metadata": {},
   "outputs": [
    {
     "name": "stdout",
     "output_type": "stream",
     "text": [
      "-50_______\n",
      "+10_______\n",
      "-30_______\n"
     ]
    }
   ],
   "source": [
    "for i in a:\n",
    "    print(f\"{i:_<+10}\")"
   ]
  },
  {
   "attachments": {},
   "cell_type": "markdown",
   "metadata": {},
   "source": [
    "3자리마다 콤마 추가"
   ]
  },
  {
   "cell_type": "code",
   "execution_count": 98,
   "metadata": {},
   "outputs": [
    {
     "name": "stdout",
     "output_type": "stream",
     "text": [
      "1,000,000,000\n"
     ]
    }
   ],
   "source": [
    "a=1000000000\n",
    "print(f\"{a:,}\")"
   ]
  },
  {
   "attachments": {},
   "cell_type": "markdown",
   "metadata": {},
   "source": [
    "콤마, 부호 같이"
   ]
  },
  {
   "cell_type": "code",
   "execution_count": 99,
   "metadata": {},
   "outputs": [
    {
     "name": "stdout",
     "output_type": "stream",
     "text": [
      "+1,000,000,000\n"
     ]
    }
   ],
   "source": [
    "a=1000000000\n",
    "print(f\"{a:+,}\")"
   ]
  },
  {
   "cell_type": "code",
   "execution_count": 100,
   "metadata": {},
   "outputs": [
    {
     "name": "stdout",
     "output_type": "stream",
     "text": [
      "+1,000,000,000^^^^^^^^^^^^^^^^\n"
     ]
    }
   ],
   "source": [
    "print(f\"{a:^<+30,}\")"
   ]
  },
  {
   "attachments": {},
   "cell_type": "markdown",
   "metadata": {},
   "source": [
    "순서: 빈자리-> 정렬방향-> 부호-> 자리수-> 콤마"
   ]
  },
  {
   "attachments": {},
   "cell_type": "markdown",
   "metadata": {},
   "source": [
    "소수점 출력 (f\"{}.2f\")"
   ]
  },
  {
   "cell_type": "code",
   "execution_count": 101,
   "metadata": {},
   "outputs": [
    {
     "name": "stdout",
     "output_type": "stream",
     "text": [
      "1.67\n"
     ]
    }
   ],
   "source": [
    "a=5/3\n",
    "print(f\"{a:.2f}\")"
   ]
  },
  {
   "attachments": {},
   "cell_type": "markdown",
   "metadata": {},
   "source": []
  }
 ],
 "metadata": {
  "kernelspec": {
   "display_name": "base",
   "language": "python",
   "name": "python3"
  },
  "language_info": {
   "codemirror_mode": {
    "name": "ipython",
    "version": 3
   },
   "file_extension": ".py",
   "mimetype": "text/x-python",
   "name": "python",
   "nbconvert_exporter": "python",
   "pygments_lexer": "ipython3",
   "version": "3.9.13"
  },
  "orig_nbformat": 4
 },
 "nbformat": 4,
 "nbformat_minor": 2
}
