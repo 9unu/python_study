{
 "cells": [
  {
   "attachments": {},
   "cell_type": "markdown",
   "metadata": {},
   "source": [
    "멤버변수"
   ]
  },
  {
   "cell_type": "code",
   "execution_count": 22,
   "metadata": {},
   "outputs": [
    {
     "name": "stdout",
     "output_type": "stream",
     "text": [
      "박이 생성되었습니다\n",
      "체력 100, 공격력 80\n",
      "유닛이름:박, 공력력: 80\n",
      "최이 생성되었습니다\n",
      "체력 80, 공격력 60\n",
      "유닛이름:최, 공력력: 60, mp: 80\n"
     ]
    }
   ],
   "source": [
    "class Unit:\n",
    "    def __init__(self, name, hp, damage):\n",
    "        self.name=name\n",
    "        self.hp=hp\n",
    "        self.damage=damage\n",
    "        print(f\"{self.name}이 생성되었습니다\")\n",
    "        print(f\"체력 {self.hp}, 공격력 {self.damage}\")\n",
    "\n",
    "m1=Unit(\"박\", 100,80)\n",
    "\n",
    "print(f\"유닛이름:{m1.name}, 공력력: {m1.damage}\")\n",
    "    \n",
    "\n",
    "#class 외부에서 객체에 멤버변수 추가 가능 \n",
    "m2=Unit(\"최\", 80, 60)\n",
    "m2.mp=80\n",
    "print(f\"유닛이름:{m2.name}, 공력력: {m2.damage}, mp: {m2.mp}\" )"
   ]
  },
  {
   "attachments": {},
   "cell_type": "markdown",
   "metadata": {},
   "source": [
    "메소드"
   ]
  },
  {
   "cell_type": "code",
   "execution_count": 23,
   "metadata": {},
   "outputs": [
    {
     "name": "stdout",
     "output_type": "stream",
     "text": [
      "박이 1시방향으로 공격합니다. (공격력: 80) \n",
      "박이 데미지를 입었습니다. (현재 체력: 70)\n"
     ]
    }
   ],
   "source": [
    "class Unit:\n",
    "    def __init__(self, name, hp, damage):\n",
    "        self.name=name\n",
    "        self.hp=hp\n",
    "        self.damage=damage\n",
    "    \n",
    "    def attack(self, location):\n",
    "        print(f\"{self.name}이 {location}방향으로 공격합니다. (공격력: {self.damage}) \")\n",
    "        \n",
    "    def damaged(self, damage):\n",
    "        self.hp-=damage\n",
    "        if(self.hp<=0):\n",
    "            print(f\"{self.name}이 죽었습니다. (현재 체력: 0)\")\n",
    "        else:\n",
    "            print(f\"{self.name}이 데미지를 입었습니다. (현재 체력: {self.hp})\")\n",
    "    \n",
    "m1=Unit(\"박\", 100,80)\n",
    "m1.attack(\"1시\")\n",
    "m1.damaged(30)\n",
    "        \n",
    "        "
   ]
  },
  {
   "cell_type": "code",
   "execution_count": 24,
   "metadata": {},
   "outputs": [],
   "source": [
    "# 기본 유닛\n",
    "class Unit:\n",
    "    def __init__(self, name, hp, speed):\n",
    "        self.name=name\n",
    "        self.hp=hp\n",
    "        self.speed= speed\n",
    "    \n",
    "    def move(self, location):\n",
    "        print(\"[지상 유닛 이동]\")\n",
    "        print(f\"{self.name}이 {location}으로 이동합니다 (속도 : {self.speed})\")\n",
    "\n",
    "#공격 유닛\n",
    "class AttackUnit(Unit): #Unit 클래스를 상속받음\n",
    "    def __init__(self, name, hp, speed, damage):   #AttackUnit의 생성자\n",
    "        Unit.__init__(self, name, hp,speed)       #Unit클래스의 생성자를 호출해서 멤버변수생성\n",
    "        self.speed= speed\n",
    "        self.damage= damage                 #AttackUnit만의 멤버변수"
   ]
  },
  {
   "cell_type": "code",
   "execution_count": 29,
   "metadata": {},
   "outputs": [
    {
     "name": "stdout",
     "output_type": "stream",
     "text": [
      "[공중 유닛 이동]\n",
      "박이 2시방향으로 날아갑니다. (속도 : 50)\n",
      "[지상 유닛 이동]\n",
      "최이 3시으로 이동합니다 (속도 : 50)\n"
     ]
    }
   ],
   "source": [
    "#공중 유닛\n",
    "\n",
    "#날 수 있는 클래스\n",
    "class Flyable:\n",
    "    def __init__(self,flying_speed):\n",
    "        self.flying_speed= flying_speed\n",
    "    \n",
    "    def fly(self, name, location):\n",
    "        print(f\"{name}이 {location}방향으로 날아갑니다. (속도 : {self.flying_speed})\")\n",
    "        \n",
    "#날 수 있고, 공격도 가능한 class\n",
    "\n",
    "class FlyableAttackUnit(AttackUnit, Flyable):\n",
    "    def __init__(self, name, hp, damage, flying_speed):\n",
    "        AttackUnit.__init__(self, name, hp, 0, damage)  # 지상스피드 =0\n",
    "        Flyable.__init__(self, flying_speed)\n",
    "\n",
    "    def move(self, location):   #move함수를 공중유닛에 대해서 오버라이딩\n",
    "        print(\"[공중 유닛 이동]\")\n",
    "        self.fly(self.name, location)\n",
    "        \n",
    "m2=FlyableAttackUnit(\"박\", 100, 300, 50)\n",
    "m2.move(\"2시\")\n",
    "\n",
    "m1=Unit(\"최\", 90,50)\n",
    "m1.move(\"3시\")"
   ]
  },
  {
   "cell_type": "code",
   "execution_count": 1,
   "metadata": {},
   "outputs": [
    {
     "name": "stdout",
     "output_type": "stream",
     "text": [
      "2\n",
      "4\n",
      "4\n",
      "3\n",
      "3\n",
      "4\n",
      "4\n",
      "5\n",
      "1\n",
      "1\n",
      "2\n",
      "4\n",
      "3\n",
      "3\n",
      "4\n",
      "4\n",
      "4\n",
      "5\n",
      "2\n",
      "5\n",
      "1\n",
      "5\n",
      "2\n",
      "5\n",
      "1\n",
      "1\n",
      "2\n",
      "2\n",
      "4\n",
      "4\n",
      "2\n",
      "2\n",
      "4\n",
      "4\n",
      "1\n",
      "5\n",
      "1\n",
      "2\n",
      "2\n",
      "1\n",
      "5\n",
      "4\n",
      "4\n",
      "2\n",
      "3\n",
      "5\n",
      "3\n",
      "2\n",
      "3\n",
      "1\n"
     ]
    }
   ],
   "source": [
    "from random import *\n",
    "for i in range(50):\n",
    "    print(randint(1,5))"
   ]
  }
 ],
 "metadata": {
  "kernelspec": {
   "display_name": "base",
   "language": "python",
   "name": "python3"
  },
  "language_info": {
   "codemirror_mode": {
    "name": "ipython",
    "version": 3
   },
   "file_extension": ".py",
   "mimetype": "text/x-python",
   "name": "python",
   "nbconvert_exporter": "python",
   "pygments_lexer": "ipython3",
   "version": "3.9.13"
  },
  "orig_nbformat": 4
 },
 "nbformat": 4,
 "nbformat_minor": 2
}
