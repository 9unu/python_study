{
 "cells": [
  {
   "attachments": {},
   "cell_type": "markdown",
   "metadata": {},
   "source": [
    "pickle은 binary이므로 rb, wb써야함"
   ]
  },
  {
   "cell_type": "code",
   "execution_count": 3,
   "metadata": {},
   "outputs": [
    {
     "name": "stdout",
     "output_type": "stream",
     "text": [
      "{'이름': '박건우', '나이': 24, '취미': ['운동', '연애']}\n"
     ]
    }
   ],
   "source": [
    "import pickle\n",
    "\n",
    "profile_file= open(\"profile.pickle\", \"wb\")\n",
    "profile={\"이름\":\"박건우\", \"나이\":24, \"취미\":[\"운동\", \"연애\"]}\n",
    "print(profile)\n",
    "pickle.dump(profile, profile_file) #profile에 저장된 정보를 profile_file에 저장\n",
    "profile_file.close()"
   ]
  },
  {
   "cell_type": "code",
   "execution_count": 4,
   "metadata": {},
   "outputs": [
    {
     "name": "stdout",
     "output_type": "stream",
     "text": [
      "{'이름': '박건우', '나이': 24, '취미': ['운동', '연애']}\n"
     ]
    }
   ],
   "source": [
    "profile_file=open(\"profile.pickle\", \"rb\")\n",
    "\n",
    "profile=pickle.load(profile_file) #profile_file에 저장된 정보 불러오기\n",
    "print(profile)\n",
    "profile_file.close()"
   ]
  }
 ],
 "metadata": {
  "kernelspec": {
   "display_name": "base",
   "language": "python",
   "name": "python3"
  },
  "language_info": {
   "codemirror_mode": {
    "name": "ipython",
    "version": 3
   },
   "file_extension": ".py",
   "mimetype": "text/x-python",
   "name": "python",
   "nbconvert_exporter": "python",
   "pygments_lexer": "ipython3",
   "version": "3.9.13"
  },
  "orig_nbformat": 4
 },
 "nbformat": 4,
 "nbformat_minor": 2
}
