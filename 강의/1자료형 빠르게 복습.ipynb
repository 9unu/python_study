{
 "cells": [
  {
   "attachments": {},
   "cell_type": "markdown",
   "metadata": {},
   "source": [
    "랜덤함수   "
   ]
  },
  {
   "cell_type": "code",
   "execution_count": 80,
   "metadata": {},
   "outputs": [
    {
     "name": "stdout",
     "output_type": "stream",
     "text": [
      "0.47250506157654104\n",
      "0.7405457238162638\n",
      "0\n",
      "37\n",
      "16\n"
     ]
    }
   ],
   "source": [
    "from random import *\n",
    "\n",
    "# 0~1사이의 난수\n",
    "print(random())\n",
    "\n",
    "# 0~10사이의 난수\n",
    "print(random()*10)\n",
    "\n",
    "#소수점이하 버리기\n",
    "print(int(random()))\n",
    "\n",
    "# 범위설정해서 난수생성(맨끝값 미만)\n",
    "print(randrange(1, 46))\n",
    "\n",
    "# 범위설정해서 난수생성(맨끝값 포함)\n",
    "print(randint(1,45))"
   ]
  },
  {
   "attachments": {},
   "cell_type": "markdown",
   "metadata": {},
   "source": [
    "문자열"
   ]
  },
  {
   "cell_type": "code",
   "execution_count": 81,
   "metadata": {},
   "outputs": [
    {
     "name": "stdout",
     "output_type": "stream",
     "text": [
      "안녕\n",
      "하세요\n",
      "하하\n",
      "하\n",
      "안녕\n"
     ]
    }
   ],
   "source": [
    "# 문자열에 줄바꿈 추가하는 법\n",
    "str = \"\"\"안녕\n",
    "하세요\n",
    "하하\"\"\"\n",
    "print(str)\n",
    "\n",
    "str=\"하\"+'\\n'+\"안녕\"\n",
    "print(str)"
   ]
  },
  {
   "cell_type": "code",
   "execution_count": 82,
   "metadata": {},
   "outputs": [
    {
     "name": "stdout",
     "output_type": "stream",
     "text": [
      "python is amazing\n",
      "PYTHON IS AMAZING\n",
      "True\n",
      "17\n",
      "java is Amazing\n",
      "Python is Amazing\n",
      "5\n",
      "15\n",
      "-1\n",
      "2\n"
     ]
    }
   ],
   "source": [
    "str2=\"Python is Amazing\"\n",
    "print(str2.lower())\n",
    "print(str2.upper())\n",
    "print(str2[0].isupper())\n",
    "print(len(str2))\n",
    "\n",
    "# 문자열 내용 변경\n",
    "print(str2.replace(\"Python\", \"java\"))\n",
    "# 이래야 실제 내용 변경\n",
    "# str2=str2.replace(\"Python\", \"java\")\n",
    "print(str2)\n",
    "print(str2.index(\"n\"))\n",
    "index= str2.index(\"n\")\n",
    "print(str2.index(\"n\", index+1))\n",
    "\n",
    "# 오류 발생\n",
    "# print(str2.index(\"hi\"))\n",
    "\n",
    "#-1출력 + 정상 작동\n",
    "print(str2.find(\"hi\"))\n",
    "\n",
    "print(str2.count(\"n\"))"
   ]
  },
  {
   "attachments": {},
   "cell_type": "markdown",
   "metadata": {},
   "source": [
    "리스트"
   ]
  },
  {
   "cell_type": "code",
   "execution_count": 83,
   "metadata": {},
   "outputs": [
    {
     "name": "stdout",
     "output_type": "stream",
     "text": [
      "['박', '김', '이']\n",
      "['박', '김', '이', '최']\n",
      "['박', '박', '김', '이', '최']\n",
      "[1, 5, 4, 7]\n",
      "[1, 4, 5, 7]\n",
      "[7, 5, 4, 1]\n",
      "[1, 2, 3, 4, 5, 6]\n",
      "[1, 2, 3, 4, 5, 6]\n"
     ]
    }
   ],
   "source": [
    "a=[\"박\",\"김\",\"이\"]\n",
    "print(a)\n",
    "\n",
    "a.append(\"최\")\n",
    "print(a)\n",
    "\n",
    "# 설정한 인덱스에 값추가\n",
    "a.insert(1, \"박\")\n",
    "print(a)\n",
    "\n",
    "#맨뒤값 제거\n",
    "a.pop()\n",
    "\n",
    "a.count(\"박\")\n",
    "\n",
    "num_list=[1,5,4,7]\n",
    "print(num_list)\n",
    "num_list.sort()\n",
    "print(num_list)\n",
    "num_list.reverse()\n",
    "print(num_list)\n",
    "num_list.clear()\n",
    "\n",
    "list1=[1,2,3]\n",
    "list2=[4,5,6]\n",
    "list1.extend(list2)\n",
    "list3=[]\n",
    "list3=list1\n",
    "print(list1)\n",
    "print(list3)"
   ]
  },
  {
   "attachments": {},
   "cell_type": "markdown",
   "metadata": {},
   "source": [
    "사전 (dictionary)"
   ]
  },
  {
   "cell_type": "code",
   "execution_count": 84,
   "metadata": {},
   "outputs": [
    {
     "name": "stdout",
     "output_type": "stream",
     "text": [
      "2019\n",
      "2019\n",
      "사용가능\n",
      "True\n",
      "dict_keys(['최'])\n",
      "dict_values([2020])\n",
      "dict_items([('최', 2020)])\n"
     ]
    }
   ],
   "source": [
    "dic={\"박\":2019, \"최\":2020}\n",
    "\n",
    "#키로 value호출\n",
    "print(dic[\"박\"])\n",
    "print(dic.get(\"박\"))\n",
    "\n",
    "# get은 키에 대응되는 값이 없을 때도 none값 반환 []은 오류발생\n",
    "# -> 사용가능한 키인지 확인할 수 있음\n",
    "print(dic.get(\"홍\", \"사용가능\"))\n",
    "\n",
    "#키가 사전에 있는지 확인\n",
    "print(\"박\" in dic)\n",
    "\n",
    "# 키로 키, 값 삭제\n",
    "del dic[\"박\"]\n",
    "\n",
    "# 키값 모두 출력\n",
    "print(dic.keys())\n",
    "\n",
    "#value값 모두 출력\n",
    "print(dic.values())\n",
    "\n",
    "#key값, value값 쌍으로 모두 출력\n",
    "print(dic.items())\n",
    "\n",
    "\n"
   ]
  },
  {
   "attachments": {},
   "cell_type": "markdown",
   "metadata": {},
   "source": [
    "튜플 (tuple) : 값 변경 불가"
   ]
  },
  {
   "cell_type": "code",
   "execution_count": 85,
   "metadata": {},
   "outputs": [
    {
     "name": "stdout",
     "output_type": "stream",
     "text": [
      "박\n"
     ]
    }
   ],
   "source": [
    "name = (\"박\", \"임\")\n",
    "print(name[0])"
   ]
  },
  {
   "attachments": {},
   "cell_type": "markdown",
   "metadata": {},
   "source": [
    "집합 (set) : 순서 없음, 중복 불가"
   ]
  },
  {
   "cell_type": "code",
   "execution_count": 86,
   "metadata": {},
   "outputs": [
    {
     "name": "stdout",
     "output_type": "stream",
     "text": [
      "{1, 2, 3}\n"
     ]
    }
   ],
   "source": [
    "a={1,2,3,3,3}\n",
    "print(a)"
   ]
  },
  {
   "attachments": {},
   "cell_type": "markdown",
   "metadata": {},
   "source": [
    "교집합, 합집합, 차집합 찾는법"
   ]
  },
  {
   "cell_type": "code",
   "execution_count": 87,
   "metadata": {},
   "outputs": [
    {
     "name": "stdout",
     "output_type": "stream",
     "text": [
      "{1}\n",
      "{1, 5}\n",
      "{1, 2, 3, 5, 7}\n",
      "{2, 3}\n",
      "{2, 3}\n",
      "{2, 3, 5}\n"
     ]
    }
   ],
   "source": [
    "a={1,2,3}\n",
    "b={1,5,7}\n",
    "print(a.intersection(b))\n",
    "a.add(5)\n",
    "print(a.intersection(b))\n",
    "\n",
    "print(a.union(b))\n",
    "\n",
    "print(a-b)\n",
    "print(a.difference(b))\n",
    "\n",
    "a.remove(1)\n",
    "print(a)"
   ]
  }
 ],
 "metadata": {
  "kernelspec": {
   "display_name": "base",
   "language": "python",
   "name": "python3"
  },
  "language_info": {
   "codemirror_mode": {
    "name": "ipython",
    "version": 3
   },
   "file_extension": ".py",
   "mimetype": "text/x-python",
   "name": "python",
   "nbconvert_exporter": "python",
   "pygments_lexer": "ipython3",
   "version": "3.9.13"
  },
  "orig_nbformat": 4
 },
 "nbformat": 4,
 "nbformat_minor": 2
}
